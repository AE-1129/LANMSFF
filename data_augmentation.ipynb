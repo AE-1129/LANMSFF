{
  "nbformat": 4,
  "nbformat_minor": 0,
  "metadata": {
    "colab": {
      "provenance": []
    },
    "kernelspec": {
      "name": "python3",
      "display_name": "Python 3"
    },
    "language_info": {
      "name": "python"
    }
  },
  "cells": [
    {
      "cell_type": "code",
      "execution_count": null,
      "metadata": {
        "id": "gHtuNy9vR8QT"
      },
      "outputs": [],
      "source": [
        "import cv2\n",
        "import numpy as np\n",
        "import random\n",
        "from random import randint\n",
        "\n",
        "\n",
        "# Assuming 'x_train' is a list of images with varying shapes\n",
        "X_train = []\n",
        "Y_train = []\n",
        "\n",
        "# Desired common shape\n",
        "desired_shape = (64, 64)\n",
        "\n",
        "# Iterate through each image in 'x_train'\n",
        "for image, label in zip(x_train, y_train):\n",
        "\n",
        "    if image.shape != desired_shape:\n",
        "        image = cv2.resize(image, desired_shape, interpolation=cv2.INTER_LINEAR)\n",
        "\n",
        "\n",
        "    # Apply horizontal flip to the current image\n",
        "    horizontal_flip = cv2.flip(image, 1)\n",
        "\n",
        "\n",
        "    # Create a rotation matrix\n",
        "    z = random.randint(-15, 15)\n",
        "    rotation_matrix = cv2.getRotationMatrix2D((image.shape[1] / 2, image.shape[0] / 2), z, 1.0)\n",
        "\n",
        "    # Apply the rotation to the image\n",
        "    rotated_image = cv2.warpAffine(image, rotation_matrix, (image.shape[1], image.shape[0]))\n",
        "    scaled_image = cv2.resize(rotated_image, (72,72), interpolation=cv2.INTER_LINEAR)\n",
        "    rotated_image = scaled_image[4:68 , 4:68]\n",
        "\n",
        "\n",
        "    # Apply other augmentations as needed (e.g., scaling, cropping)\n",
        "    scaled_image = cv2.resize(image, (72,72), interpolation=cv2.INTER_LINEAR)\n",
        "    x = random.randint(0, 8)\n",
        "    y = random.randint(0, 8)\n",
        "    cropped_image = scaled_image[x:x+64 , y:y+64]\n",
        "\n",
        "\n",
        "    X_train.append(image)\n",
        "    X_train.append(horizontal_flip)\n",
        "    X_train.append(rotated_image)\n",
        "    X_train.append(cropped_image)\n",
        "\n",
        "    Y_train.append(label)\n",
        "    Y_train.append(label)\n",
        "    Y_train.append(label)\n",
        "    Y_train.append(label)\n",
        "\n",
        "\n",
        "# Convert the list of images to a NumPy array\n",
        "X_train = np.array(X_train)\n",
        "Y_train = np.array(Y_train)\n",
        "X_train = np.expand_dims(X_train, -1)\n"
      ]
    }
  ]
}