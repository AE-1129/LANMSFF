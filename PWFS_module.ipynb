{
  "nbformat": 4,
  "nbformat_minor": 0,
  "metadata": {
    "colab": {
      "provenance": []
    },
    "kernelspec": {
      "name": "python3",
      "display_name": "Python 3"
    },
    "language_info": {
      "name": "python"
    }
  },
  "cells": [
    {
      "cell_type": "code",
      "execution_count": null,
      "metadata": {
        "id": "yuyGMjRN6MGQ"
      },
      "outputs": [],
      "source": [
        "import keras\n",
        "import tensorflow\n",
        "from tensorflow.keras.layers import Layer\n",
        "from tensorflow.keras.utils import plot_model\n",
        "from tensorflow.keras.models import Model\n",
        "from tensorflow.keras.layers import Dense, Lambda, ReLU, Add,Dropout, Activation, Flatten, Input, PReLU,SeparableConv2D, Conv2DTranspose,concatenate,Convolution2D,ZeroPadding2D,Add,MaxPool2D\n",
        "from tensorflow.keras.layers import Conv2D,Conv2DTranspose, Activation,MaxPooling3D, MaxPooling2D, BatchNormalization, UpSampling2D,AveragePooling2D,GlobalMaxPooling2D,GlobalAveragePooling2D\n",
        "import random\n",
        "\n",
        "\n",
        "class PWFS(Layer):\n",
        "    def __init__(self):\n",
        "        super(PWFS, self).__init__()\n",
        "\n",
        "    def call(self, inputs):\n",
        "\n",
        "        # Split feature map to 3 sub-group channel-wisely\n",
        "        split1, split2, split3 = tf.split(inputs, num_or_size_splits=3, axis=-1)\n",
        "\n",
        "        # Compute median using element-wise operations and minimum/maximum functions\n",
        "        min_split = tf.minimum(tf.minimum(split1, split2), split3)\n",
        "        max_split = tf.maximum(tf.maximum(split1, split2), split3)\n",
        "        median_values = split1 + split2 + split3 - min_split - max_split\n",
        "\n",
        "        # Averaging max and median sub-group\n",
        "        average_values = 0.5 * (max_split + median_values)\n",
        "\n",
        "\n",
        "        return average_values\n",
        "\n",
        "    def get_config(self):\n",
        "        # No additional hyperparameters to configure\n",
        "        config = super(MFM, self).get_config()\n",
        "        return config"
      ]
    }
  ]
}